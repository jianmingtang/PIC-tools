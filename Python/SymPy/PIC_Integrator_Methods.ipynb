{
 "metadata": {
  "name": "",
  "signature": "sha256:9da5f09170edbf0cb1904c3aa494964b98359699f5ccdb238425a3825beb22ce"
 },
 "nbformat": 3,
 "nbformat_minor": 0,
 "worksheets": [
  {
   "cells": [
    {
     "cell_type": "code",
     "collapsed": false,
     "input": [
      "from sympy import *\n",
      "init_printing()"
     ],
     "language": "python",
     "metadata": {},
     "outputs": [],
     "prompt_number": 1
    },
    {
     "cell_type": "code",
     "collapsed": false,
     "input": [
      "dt = symbols('dt')\n",
      "Ex,Ey,Ez = symbols('Ex Ey Ez')\n",
      "Bx,By,Bz = symbols('Bx By Bz')\n",
      "Vx,Vy,Vz = symbols('Vx Vy Vz')\n",
      "\n",
      "I = Matrix.eye(3)\n",
      "# fields at time t\n",
      "E = Matrix(3,1, [Ex,Ey,Ez])\n",
      "B = Matrix(3,1, [Bx,By,Bz])\n",
      "# velocity at time t-\n",
      "V = Matrix(3,1, [Vx,Vy,Vz])\n",
      "\n",
      "# Tajima Implicit Method\n",
      "# v+ = v- + (E + (v+ + v-)/2 x B) dt\n",
      "# v+ = (1-R dt/2)^{-1} (E dt + (1+R dt/2)v-)\n",
      "# where R v = v x B\n",
      "R = Matrix([[0,Bz,-By],[-Bz,0,Bx],[By,-Bx,0]])\n",
      "M = simplify( (I-R*dt/2).inv() )\n",
      "A = simplify( M.multiply(I+R*dt/2) )\n",
      "Av = simplify( A.multiply(V) )\n",
      "ME = simplify( M.multiply(E) * dt)\n",
      "vv1 = simplify( Av + ME )\n",
      "\n",
      "# Boris Method\n",
      "# v+' = v+ - E dt/2\n",
      "# v-' = v- + E dt/2\n",
      "# v+' = v-' + ((v+' + v-')/2 x B) dt\n",
      "# bt = B dt/2\n",
      "# v+' = v-' + (v-' + v-' x bt) x 2 bt / (1+bt**2)\n",
      "vm = V + E*dt/2\n",
      "bt = B*dt/2\n",
      "tm = (bt).dot(bt)\n",
      "u1 = simplify( vm + vm.cross(bt) )\n",
      "u2 = simplify( u1.cross(B*dt/(1+tm)) )\n",
      "vv2 = simplify(vm + u2 + E*dt/2)\n",
      "\n",
      "\n",
      "simplify( vv1 - vv2 )"
     ],
     "language": "python",
     "metadata": {},
     "outputs": [
      {
       "latex": [
        "$$\\left[\\begin{matrix}0\\\\0\\\\0\\end{matrix}\\right]$$"
       ],
       "metadata": {},
       "output_type": "pyout",
       "png": "[encoded data removed]",
       "prompt_number": 4,
       "text": [
        "\u23a10\u23a4\n",
        "\u23a2 \u23a5\n",
        "\u23a20\u23a5\n",
        "\u23a2 \u23a5\n",
        "\u23a30\u23a6"
       ]
      }
     ],
     "prompt_number": 4
    },
    {
     "cell_type": "code",
     "collapsed": false,
     "input": [
      "vv1"
     ],
     "language": "python",
     "metadata": {},
     "outputs": [
      {
       "latex": [
        "$$\\left[\\begin{matrix}\\frac{1}{Bx^{2} dt^{2} + By^{2} dt^{2} + Bz^{2} dt^{2} + 4} \\left(Vx \\left(Bx^{2} dt^{2} - By^{2} dt^{2} - Bz^{2} dt^{2} + 4\\right) + 2 Vy dt \\left(Bx By dt + 2 Bz\\right) + 2 Vz dt \\left(Bx Bz dt - 2 By\\right) + dt \\left(Ex \\left(Bx^{2} dt^{2} + 4\\right) + Ey dt \\left(Bx By dt + 2 Bz\\right) + Ez dt \\left(Bx Bz dt - 2 By\\right)\\right)\\right)\\\\\\frac{1}{Bx^{2} dt^{2} + By^{2} dt^{2} + Bz^{2} dt^{2} + 4} \\left(2 Vx dt \\left(Bx By dt - 2 Bz\\right) - Vy \\left(Bx^{2} dt^{2} - By^{2} dt^{2} + Bz^{2} dt^{2} - 4\\right) + 2 Vz dt \\left(2 Bx + By Bz dt\\right) + dt \\left(Ex dt \\left(Bx By dt - 2 Bz\\right) + Ey \\left(By^{2} dt^{2} + 4\\right) + Ez dt \\left(2 Bx + By Bz dt\\right)\\right)\\right)\\\\\\frac{1}{Bx^{2} dt^{2} + By^{2} dt^{2} + Bz^{2} dt^{2} + 4} \\left(2 Vx dt \\left(Bx Bz dt + 2 By\\right) - 2 Vy dt \\left(2 Bx - By Bz dt\\right) - Vz \\left(Bx^{2} dt^{2} + By^{2} dt^{2} - Bz^{2} dt^{2} - 4\\right) + dt \\left(Ex dt \\left(Bx Bz dt + 2 By\\right) - Ey dt \\left(2 Bx - By Bz dt\\right) + Ez \\left(Bz^{2} dt^{2} + 4\\right)\\right)\\right)\\end{matrix}\\right]$$"
       ],
       "metadata": {},
       "output_type": "pyout",
       "png": "[encoded data removed]",
       "prompt_number": 3,
       "text": [
        "\u23a1   \u239b  2   2     2   2     2   2    \u239e                                         \n",
        "\u23a2Vx\u22c5\u239dBx \u22c5dt  - By \u22c5dt  - Bz \u22c5dt  + 4\u23a0 + 2\u22c5Vy\u22c5dt\u22c5(Bx\u22c5By\u22c5dt + 2\u22c5Bz) + 2\u22c5Vz\u22c5dt\u22c5(B\n",
        "\u23a2\u2500\u2500\u2500\u2500\u2500\u2500\u2500\u2500\u2500\u2500\u2500\u2500\u2500\u2500\u2500\u2500\u2500\u2500\u2500\u2500\u2500\u2500\u2500\u2500\u2500\u2500\u2500\u2500\u2500\u2500\u2500\u2500\u2500\u2500\u2500\u2500\u2500\u2500\u2500\u2500\u2500\u2500\u2500\u2500\u2500\u2500\u2500\u2500\u2500\u2500\u2500\u2500\u2500\u2500\u2500\u2500\u2500\u2500\u2500\u2500\u2500\u2500\u2500\u2500\u2500\u2500\u2500\u2500\u2500\u2500\u2500\u2500\u2500\u2500\u2500\u2500\u2500\n",
        "\u23a2                                                                      2   2  \n",
        "\u23a2                                                                    Bx \u22c5dt  +\n",
        "\u23a2                                                                             \n",
        "\u23a2                               \u239b  2   2     2   2     2   2    \u239e             \n",
        "\u23a22\u22c5Vx\u22c5dt\u22c5(Bx\u22c5By\u22c5dt - 2\u22c5Bz) - Vy\u22c5\u239dBx \u22c5dt  - By \u22c5dt  + Bz \u22c5dt  - 4\u23a0 + 2\u22c5Vz\u22c5dt\u22c5(2\n",
        "\u23a2\u2500\u2500\u2500\u2500\u2500\u2500\u2500\u2500\u2500\u2500\u2500\u2500\u2500\u2500\u2500\u2500\u2500\u2500\u2500\u2500\u2500\u2500\u2500\u2500\u2500\u2500\u2500\u2500\u2500\u2500\u2500\u2500\u2500\u2500\u2500\u2500\u2500\u2500\u2500\u2500\u2500\u2500\u2500\u2500\u2500\u2500\u2500\u2500\u2500\u2500\u2500\u2500\u2500\u2500\u2500\u2500\u2500\u2500\u2500\u2500\u2500\u2500\u2500\u2500\u2500\u2500\u2500\u2500\u2500\u2500\u2500\u2500\u2500\u2500\u2500\u2500\u2500\n",
        "\u23a2                                                                      2   2  \n",
        "\u23a2                                                                    Bx \u22c5dt  +\n",
        "\u23a2                                                                             \n",
        "\u23a2                                                           \u239b  2   2     2   2\n",
        "\u23a22\u22c5Vx\u22c5dt\u22c5(Bx\u22c5Bz\u22c5dt + 2\u22c5By) - 2\u22c5Vy\u22c5dt\u22c5(2\u22c5Bx - By\u22c5Bz\u22c5dt) - Vz\u22c5\u239dBx \u22c5dt  + By \u22c5dt \n",
        "\u23a2\u2500\u2500\u2500\u2500\u2500\u2500\u2500\u2500\u2500\u2500\u2500\u2500\u2500\u2500\u2500\u2500\u2500\u2500\u2500\u2500\u2500\u2500\u2500\u2500\u2500\u2500\u2500\u2500\u2500\u2500\u2500\u2500\u2500\u2500\u2500\u2500\u2500\u2500\u2500\u2500\u2500\u2500\u2500\u2500\u2500\u2500\u2500\u2500\u2500\u2500\u2500\u2500\u2500\u2500\u2500\u2500\u2500\u2500\u2500\u2500\u2500\u2500\u2500\u2500\u2500\u2500\u2500\u2500\u2500\u2500\u2500\u2500\u2500\u2500\u2500\u2500\u2500\n",
        "\u23a2                                                                      2   2  \n",
        "\u23a3                                                                    Bx \u22c5dt  +\n",
        "\n",
        "                     \u239b   \u239b  2   2    \u239e                                        \n",
        "x\u22c5Bz\u22c5dt - 2\u22c5By) + dt\u22c5\u239dEx\u22c5\u239dBx \u22c5dt  + 4\u23a0 + Ey\u22c5dt\u22c5(Bx\u22c5By\u22c5dt + 2\u22c5Bz) + Ez\u22c5dt\u22c5(Bx\u22c5B\n",
        "\u2500\u2500\u2500\u2500\u2500\u2500\u2500\u2500\u2500\u2500\u2500\u2500\u2500\u2500\u2500\u2500\u2500\u2500\u2500\u2500\u2500\u2500\u2500\u2500\u2500\u2500\u2500\u2500\u2500\u2500\u2500\u2500\u2500\u2500\u2500\u2500\u2500\u2500\u2500\u2500\u2500\u2500\u2500\u2500\u2500\u2500\u2500\u2500\u2500\u2500\u2500\u2500\u2500\u2500\u2500\u2500\u2500\u2500\u2500\u2500\u2500\u2500\u2500\u2500\u2500\u2500\u2500\u2500\u2500\u2500\u2500\u2500\u2500\u2500\u2500\u2500\u2500\u2500\n",
        "   2   2     2   2                                                            \n",
        " By \u22c5dt  + Bz \u22c5dt  + 4                                                        \n",
        "                                                                              \n",
        "                     \u239b                             \u239b  2   2    \u239e              \n",
        "\u22c5Bx + By\u22c5Bz\u22c5dt) + dt\u22c5\u239dEx\u22c5dt\u22c5(Bx\u22c5By\u22c5dt - 2\u22c5Bz) + Ey\u22c5\u239dBy \u22c5dt  + 4\u23a0 + Ez\u22c5dt\u22c5(2\u22c5Bx\n",
        "\u2500\u2500\u2500\u2500\u2500\u2500\u2500\u2500\u2500\u2500\u2500\u2500\u2500\u2500\u2500\u2500\u2500\u2500\u2500\u2500\u2500\u2500\u2500\u2500\u2500\u2500\u2500\u2500\u2500\u2500\u2500\u2500\u2500\u2500\u2500\u2500\u2500\u2500\u2500\u2500\u2500\u2500\u2500\u2500\u2500\u2500\u2500\u2500\u2500\u2500\u2500\u2500\u2500\u2500\u2500\u2500\u2500\u2500\u2500\u2500\u2500\u2500\u2500\u2500\u2500\u2500\u2500\u2500\u2500\u2500\u2500\u2500\u2500\u2500\u2500\u2500\u2500\u2500\n",
        "   2   2     2   2                                                            \n",
        " By \u22c5dt  + Bz \u22c5dt  + 4                                                        \n",
        "                                                                              \n",
        "     2   2    \u239e      \u239b                                                       \u239b\n",
        " - Bz \u22c5dt  - 4\u23a0 + dt\u22c5\u239dEx\u22c5dt\u22c5(Bx\u22c5Bz\u22c5dt + 2\u22c5By) - Ey\u22c5dt\u22c5(2\u22c5Bx - By\u22c5Bz\u22c5dt) + Ez\u22c5\u239d\n",
        "\u2500\u2500\u2500\u2500\u2500\u2500\u2500\u2500\u2500\u2500\u2500\u2500\u2500\u2500\u2500\u2500\u2500\u2500\u2500\u2500\u2500\u2500\u2500\u2500\u2500\u2500\u2500\u2500\u2500\u2500\u2500\u2500\u2500\u2500\u2500\u2500\u2500\u2500\u2500\u2500\u2500\u2500\u2500\u2500\u2500\u2500\u2500\u2500\u2500\u2500\u2500\u2500\u2500\u2500\u2500\u2500\u2500\u2500\u2500\u2500\u2500\u2500\u2500\u2500\u2500\u2500\u2500\u2500\u2500\u2500\u2500\u2500\u2500\u2500\u2500\u2500\u2500\u2500\n",
        "   2   2     2   2                                                            \n",
        " By \u22c5dt  + Bz \u22c5dt  + 4                                                        \n",
        "\n",
        "            \u239e\u23a4\n",
        "z\u22c5dt - 2\u22c5By)\u23a0\u23a5\n",
        "\u2500\u2500\u2500\u2500\u2500\u2500\u2500\u2500\u2500\u2500\u2500\u2500\u2500\u23a5\n",
        "             \u23a5\n",
        "             \u23a5\n",
        "             \u23a5\n",
        "            \u239e\u23a5\n",
        " + By\u22c5Bz\u22c5dt)\u23a0\u23a5\n",
        "\u2500\u2500\u2500\u2500\u2500\u2500\u2500\u2500\u2500\u2500\u2500\u2500\u2500\u23a5\n",
        "             \u23a5\n",
        "             \u23a5\n",
        "             \u23a5\n",
        "  2   2    \u239e\u239e\u23a5\n",
        "Bz \u22c5dt  + 4\u23a0\u23a0\u23a5\n",
        "\u2500\u2500\u2500\u2500\u2500\u2500\u2500\u2500\u2500\u2500\u2500\u2500\u2500\u23a5\n",
        "             \u23a5\n",
        "             \u23a6"
       ]
      }
     ],
     "prompt_number": 3
    },
    {
     "cell_type": "code",
     "collapsed": false,
     "input": [],
     "language": "python",
     "metadata": {},
     "outputs": []
    }
   ],
   "metadata": {}
  }
 ]
}